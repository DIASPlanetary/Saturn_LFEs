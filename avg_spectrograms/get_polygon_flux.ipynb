{
 "cells": [
  {
   "cell_type": "markdown",
   "metadata": {},
   "source": [
    "# Mask .sav Flux with polygon time-frequency coordinates\n",
    "This notebook describes the process of generating masked flux files from polygon data, in order to only capture the flux inside the polygons boundaries. No need to run this if you already have access to the files."
   ]
  },
  {
   "cell_type": "code",
   "execution_count": null,
   "metadata": {},
   "outputs": [],
   "source": [
    "import configparser\n",
    "\n",
    "import numpy as np\n",
    "import xarray as xr\n",
    "\n",
    "import matplotlib.dates as mdates\n",
    "from matplotlib.path import Path\n",
    "\n",
    "from tfcat import TFCat\n",
    "\n",
    "from tqdm import tqdm\n",
    "from multiprocess import Pool  # Change 'multiprocess' to 'multiprocessing' if given an error\n",
    "\n",
    "from lfe_func import get_sav_data, get_poly_coords"
   ]
  },
  {
   "cell_type": "code",
   "execution_count": null,
   "metadata": {},
   "outputs": [],
   "source": [
    "config = configparser.ConfigParser()\n",
    "config.read('config.ini')\n",
    "unet_catalogue_fp = config['filepaths']['unet_catalogue']\n",
    "skr_poly_flux_fp = config['folderpaths']['skr_poly_flux']"
   ]
  },
  {
   "cell_type": "markdown",
   "metadata": {},
   "source": [
    "Import All Polygon Time Frequency Coordinates and put them in a list"
   ]
  },
  {
   "cell_type": "code",
   "execution_count": null,
   "metadata": {},
   "outputs": [],
   "source": [
    "catalogue = TFCat.from_file(unet_catalogue_fp)\n",
    "\n",
    "poly_tf_list = []\n",
    "for i in range(4874):\n",
    "    poly_time, poly_freq = np.array(catalogue._data['features'][i]['geometry']['coordinates'][0]).T\n",
    "\n",
    "    poly_time = poly_time.astype('datetime64[s]')\n",
    "\n",
    "    poly_tf = np.array([mdates.date2num(poly_time), poly_freq]).T\n",
    "\n",
    "    poly_tf_list.append(poly_tf)"
   ]
  },
  {
   "cell_type": "code",
   "execution_count": null,
   "metadata": {},
   "outputs": [],
   "source": [
    "def create_mask(poly_coords):\n",
    "    \"\"\"Create a flux mask given polygon coordinates.\n",
    "\n",
    "    Parameters\n",
    "    ----------\n",
    "    poly_coords: list\n",
    "        List of polygon time-frequency coordinates.\n",
    "    \n",
    "    Returns\n",
    "    -------\n",
    "    mask: numpy.array\n",
    "        Boolean mask of dimension flux where True values represent polygon coordinates in the flux.\n",
    "    \"\"\"\n",
    "    freq_grid, time_grid = np.meshgrid(freq, mdates.date2num(time), indexing='ij')\n",
    "    points = np.vstack((time_grid.flatten(), freq_grid.flatten())).T\n",
    "\n",
    "    path = Path(poly_coords)\n",
    "    mask_flat = path.contains_points(points)\n",
    "    mask = mask_flat.reshape(flux.shape)\n",
    "\n",
    "    return mask"
   ]
  },
  {
   "cell_type": "markdown",
   "metadata": {},
   "source": [
    "Loop over every mission year to get yearly files of masked flux w.r.t polygon coordinates, time and frequency. The dimensions of these arrays are similar to sav data files.\n",
    "\n",
    "A parallelization process is used, **BE CAREFUL ABOUT CPU_NUM VARIABLE**, and each year has a progress bar."
   ]
  },
  {
   "cell_type": "code",
   "execution_count": null,
   "metadata": {},
   "outputs": [],
   "source": [
    "for year in range(2004, 2018):\n",
    "    print(year)\n",
    "    \n",
    "    time, freq, flux = get_sav_data(year)\n",
    "    poly_coordinates = get_poly_coords(year, poly_tf_list)\n",
    "\n",
    "    cpu_num = 9\n",
    "    mask_list = []\n",
    "\n",
    "    max_ = len(poly_coordinates)\n",
    "    with Pool(cpu_num) as p, tqdm(total=max_) as pbar:\n",
    "        for result in p.imap(create_mask, poly_coordinates):\n",
    "            pbar.update()\n",
    "            pbar.refresh()\n",
    "            mask_list.append(result)\n",
    "\n",
    "    combined_mask = np.sum(mask_list, axis=0).astype(bool)\n",
    "\n",
    "    masked_flux = flux.copy()\n",
    "    masked_flux[~combined_mask] = np.nan\n",
    "\n",
    "    da = xr.DataArray(masked_flux, dims=['frequency', 'time'], coords= {'frequency': (['frequency'], freq),'time':(['time'], time)})\n",
    "\n",
    "    da.to_netcdf(skr_poly_flux_fp + f'/poly_flux_{year}.ncdf')"
   ]
  }
 ],
 "metadata": {
  "kernelspec": {
   "display_name": "LFE_statistics",
   "language": "python",
   "name": "python3"
  },
  "language_info": {
   "codemirror_mode": {
    "name": "ipython",
    "version": 3
   },
   "file_extension": ".py",
   "mimetype": "text/x-python",
   "name": "python",
   "nbconvert_exporter": "python",
   "pygments_lexer": "ipython3",
   "version": "3.11.0"
  }
 },
 "nbformat": 4,
 "nbformat_minor": 2
}
